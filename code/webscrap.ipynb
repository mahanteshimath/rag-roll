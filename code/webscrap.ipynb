{
 "cells": [
  {
   "cell_type": "code",
   "execution_count": null,
   "metadata": {},
   "outputs": [],
   "source": [
    "!pip install requests beautifulsoup4 pandas\n",
    "\n"
   ]
  },
  {
   "cell_type": "code",
   "execution_count": 1,
   "metadata": {},
   "outputs": [
    {
     "name": "stdout",
     "output_type": "stream",
     "text": [
      "Scraped 0 products and saved to 3m_products.csv\n"
     ]
    }
   ],
   "source": [
    "import requests\n",
    "from bs4 import BeautifulSoup\n",
    "import pandas as pd\n",
    "\n",
    "def scrape_3m_products(url):\n",
    "    headers = {\n",
    "        'User-Agent': 'Mozilla/5.0 (Windows NT 10.0; Win64; x64) AppleWebKit/537.36 (KHTML, like Gecko) Chrome/91.0.4472.124 Safari/537.36'\n",
    "    }\n",
    "    \n",
    "    response = requests.get(url, headers=headers)\n",
    "    soup = BeautifulSoup(response.content, 'html.parser')\n",
    "    \n",
    "    products = []\n",
    "    \n",
    "    for product in soup.select('div.product-grid-product-info'):\n",
    "        name = product.select_one('h2').get_text(strip=True) if product.select_one('h2') else None\n",
    "        price = product.select_one('span.money-amount__main').get_text(strip=True) if product.select_one('span.money-amount__main') else None\n",
    "        stock_number = product.select_one('div[data-test=\"product-stock-number\"]').get_text(strip=True) if product.select_one('div[data-test=\"product-stock-number\"]') else None\n",
    "        upc = product.select_one('div[data-test=\"product-upc\"]').get_text(strip=True) if product.select_one('div[data-test=\"product-upc\"]') else None\n",
    "        \n",
    "        products.append({\n",
    "            'Name': name,\n",
    "            'Price': price,\n",
    "            'Stock Number': stock_number,\n",
    "            'UPC': upc\n",
    "        })\n",
    "    \n",
    "    return products\n",
    "\n",
    "# URL of the 3M products page\n",
    "url = 'https://www.3m.com/3M/en_US/p/'\n",
    "\n",
    "# Scrape the products\n",
    "scraped_products = scrape_3m_products(url)\n",
    "\n",
    "# Create a DataFrame\n",
    "df = pd.DataFrame(scraped_products)\n",
    "\n",
    "# Save to CSV\n",
    "df.to_csv('3m_products.csv', index=False)\n",
    "\n",
    "print(f\"Scraped {len(scraped_products)} products and saved to 3m_products.csv\")\n"
   ]
  }
 ],
 "metadata": {
  "kernelspec": {
   "display_name": "Python 3",
   "language": "python",
   "name": "python3"
  },
  "language_info": {
   "codemirror_mode": {
    "name": "ipython",
    "version": 3
   },
   "file_extension": ".py",
   "mimetype": "text/x-python",
   "name": "python",
   "nbconvert_exporter": "python",
   "pygments_lexer": "ipython3",
   "version": "3.12.1"
  }
 },
 "nbformat": 4,
 "nbformat_minor": 2
}
